{
 "cells": [
  {
   "cell_type": "code",
   "execution_count": null,
   "id": "4a152541",
   "metadata": {},
   "outputs": [],
   "source": [
    "import pandas as pd\n",
    "import numpy as np\n",
    "import matplotlib.pyplot as plt\n",
    "import matplotlib.animation as animation\n",
    "import bar_chart_race as bcr\n",
    "import matplotlib as mpl\n",
    "\n",
    "mega = pd.read_excel(\"../dados.xlsx\")\n",
    "\n",
    "quadro = mega.drop(['Concurso', 'Data'], axis=1)\n"
   ]
  },
  {
   "cell_type": "code",
   "execution_count": null,
   "id": "cb862fa7",
   "metadata": {},
   "outputs": [],
   "source": [
    "contagem = {}\n",
    "\n",
    "for numero in range(1, 61):\n",
    "    contagem_numero = {}\n",
    "    for coluna in quadro.columns:\n",
    "        temp = 0\n",
    "        for instancia in quadro[coluna]:\n",
    "            if instancia == numero:\n",
    "                temp += 1\n",
    "        \n",
    "        contagem_numero[coluna] = temp\n",
    "    \n",
    "    contagem[numero] = contagem_numero\n",
    "\n",
    "tabela = pd.DataFrame(contagem).T\n",
    "\n",
    "tabela.index.name = 'Número'\n",
    "\n",
    "tabela['Total'] = tabela.sum(axis=1)\n",
    "\n",
    "tabela['Total Esperado'] = int((2876 * 6)/60)\n",
    "\n",
    "tabela['Média por bola'] = tabela['Total'] / len(quadro.columns)\n",
    "\n",
    "tabela['Média por bola Esperada'] = int((1/60)*2876)\n",
    "\n",
    "tabela['Probabilidade'] = tabela['Total'] / (len(quadro) * len(quadro.columns))\n",
    "\n",
    "display(tabela)\n",
    "\n"
   ]
  },
  {
   "cell_type": "code",
   "execution_count": null,
   "id": "352d1118",
   "metadata": {},
   "outputs": [],
   "source": [
    "agrupados = tabela.groupby(\"Total\").size()\n",
    "agrupados.to_excel(\"Frequenciasiguais.xlsx\")\n",
    "display(agrupados)"
   ]
  },
  {
   "cell_type": "code",
   "execution_count": null,
   "id": "02a6b5a2",
   "metadata": {},
   "outputs": [],
   "source": [
    "total_de_Frequencia = tabela['Total']\n",
    "media = total_de_Frequencia.mean() \n",
    "\n",
    "plt.figure(figsize=(15, 8))\n",
    "\n",
    "plt.bar(total_de_Frequencia.index, total_de_Frequencia.values)\n",
    "plt.axhline(y=media, color='red', linestyle='--', label=f'Média: {media:.2f}')\n",
    "\n",
    "plt.title('Frequências com Linha da Média')\n",
    "plt.xlabel('Número')\n",
    "plt.ylabel('Total de Frequência')\n",
    "\n",
    "plt.legend()  # mostra a legenda\n",
    "\n",
    "plt.tight_layout()\n",
    "plt.show()"
   ]
  },
  {
   "cell_type": "code",
   "execution_count": null,
   "id": "1038cd16",
   "metadata": {},
   "outputs": [],
   "source": [
    "for v in range(1,61):\n",
    "    \n",
    "    linha = tabela.loc[v]\n",
    "\n",
    "    linha_filtrada = linha.drop(['Total','Média por bola','Total Esperado','Probabilidade','Média por bola Esperada'], errors='ignore')\n",
    "\n",
    "    media = linha_filtrada.mean()\n",
    "    maxima = linha_filtrada.max().max()\n",
    "    minima = linha_filtrada.min().min()\n",
    "\n",
    "    plt.figure(figsize=(15,6))\n",
    "    plt.axhline(y=media, color='red', linestyle='--', label=f'Média: {media:.2f}')\n",
    "    plt.axhline(y=maxima, color='yellow', linestyle='--', label=f'Maxima: {maxima:.2f}')\n",
    "    plt.axhline(y=minima, color='blue', linestyle='--', label=f'Minima: {minima:.2f}')\n",
    "    plt.bar(linha_filtrada.index, linha_filtrada.values)\n",
    "\n",
    "    plt.title(f\"Frequência por bola do número {v}\")\n",
    "    plt.xlabel('Colunas')\n",
    "    plt.ylabel('Frequência')\n",
    "\n",
    "    plt.legend()\n",
    "\n",
    "    plt.tight_layout()\n",
    "    plt.savefig(f\"FrequenciaPorBolaDo{v}\")\n",
    "    plt.show()"
   ]
  },
  {
   "cell_type": "code",
   "execution_count": null,
   "id": "679501cf",
   "metadata": {},
   "outputs": [],
   "source": [
    "abaixo_da_media = tabela[tabela['Total'] < tabela['Total Esperado']]\n",
    "display(abaixo_da_media)\n",
    "\n",
    "maior_da_media = tabela[tabela['Total'] > tabela['Total Esperado']]\n",
    "display(maior_da_media)\n",
    "\n",
    "igual_a_media = tabela[tabela['Total'] == tabela['Total Esperado']]\n",
    "display(igual_a_media)"
   ]
  },
  {
   "cell_type": "code",
   "execution_count": null,
   "id": "336c5131",
   "metadata": {},
   "outputs": [],
   "source": [
    "\n",
    "dados = mega.drop(['Concurso', 'Data'], axis=1)\n",
    "\n",
    "\n",
    "dicio = {i: 0 for i in range(1, 61)}\n",
    "\n",
    "\n",
    "tb_to_graphics = pd.DataFrame()\n",
    "\n",
    "\n",
    "for i in range(2875, 1, -1):\n",
    "    valores = dados.iloc[i].to_list()\n",
    "\n",
    "    for numero in valores:\n",
    "        dicio[int(numero)] += 1\n",
    "\n",
    "    tb_to_graphics = pd.concat([tb_to_graphics, pd.DataFrame([dicio.copy()])], ignore_index=True)\n",
    "\n",
    "tb_to_graphics.to_excel('Frequencias_Historicas_Mega_sena.xlsx')\n",
    "display(tb_to_graphics)\n",
    "\n"
   ]
  },
  {
   "cell_type": "code",
   "execution_count": null,
   "id": "b418a327",
   "metadata": {},
   "outputs": [],
   "source": [
    "import bar_chart_race as bcr\n",
    "\n",
    "import matplotlib as mpl\n",
    "\n",
    "mpl.rcParams['animation.ffmpeg_path'] = r'C:\\ffmpeg\\bin\\ffmpeg.exe' \n",
    "mpl.rcParams['animation.embed_limit'] = 100\n",
    "\n",
    "dados_recente = dados.tail(40)\n",
    "\n",
    "bcr.bar_chart_race(\n",
    "    df=tb_to_graphics,\n",
    "    filename='corrida.mp4',\n",
    "    steps_per_period=5,\n",
    "    figsize=(16,10)\n",
    ")\n",
    "\n"
   ]
  }
 ],
 "metadata": {
  "kernelspec": {
   "display_name": "Python 3",
   "language": "python",
   "name": "python3"
  },
  "language_info": {
   "codemirror_mode": {
    "name": "ipython",
    "version": 3
   },
   "file_extension": ".py",
   "mimetype": "text/x-python",
   "name": "python",
   "nbconvert_exporter": "python",
   "pygments_lexer": "ipython3",
   "version": "3.13.3"
  }
 },
 "nbformat": 4,
 "nbformat_minor": 5
}
