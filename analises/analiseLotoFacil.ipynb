{
 "cells": [
  {
   "cell_type": "code",
   "execution_count": null,
   "id": "591a30de",
   "metadata": {},
   "outputs": [],
   "source": [
    "import pandas as pd\n",
    "import numpy as np\n",
    "import matplotlib.pyplot as plt\n",
    "import matplotlib.animation as animation\n",
    "import bar_chart_race as bcr\n",
    "import matplotlib as mpl\n",
    "\n",
    "lotofacil = pd.read_excel(\"../allResultsLotoFacil.xlsx\")\n",
    "\n",
    "quadroLoto = lotofacil.drop(['Concurso', 'Data'], axis=1)"
   ]
  },
  {
   "cell_type": "code",
   "execution_count": null,
   "id": "74855bd3",
   "metadata": {},
   "outputs": [],
   "source": [
    "contagem = {}\n",
    "\n",
    "for numero in range(1, 26):\n",
    "    contagem_numero = {}\n",
    "    for coluna in quadroLoto.columns:\n",
    "        temp = 0\n",
    "        for instancia in quadroLoto[coluna]:\n",
    "            if instancia == numero:\n",
    "                temp += 1\n",
    "        \n",
    "        contagem_numero[coluna] = temp\n",
    "    \n",
    "    contagem[numero] = contagem_numero\n",
    "\n",
    "tabela = pd.DataFrame(contagem).T\n",
    "\n",
    "tabela.index.name = 'Número'\n",
    "\n",
    "tabela['Total'] = tabela.sum(axis=1)\n",
    "\n",
    "tabela['Total Esperado'] = int((3421 * 15)/25)\n",
    "\n",
    "tabela['Média por bola'] = tabela['Total'] / len(quadroLoto.columns)\n",
    "\n",
    "tabela['Média por bola Esperada'] = int((1/25)*3421)\n",
    "\n",
    "tabela['Probabilidade'] = tabela['Total'] / (len(quadroLoto) * len(quadroLoto.columns))\n",
    "\n",
    "display(tabela)"
   ]
  },
  {
   "cell_type": "code",
   "execution_count": null,
   "id": "48b16947",
   "metadata": {},
   "outputs": [],
   "source": [
    "total_de_Frequencia = tabela['Total']\n",
    "media = total_de_Frequencia.mean() \n",
    "\n",
    "plt.figure(figsize=(15, 8))\n",
    "\n",
    "plt.bar(total_de_Frequencia.index, total_de_Frequencia.values)\n",
    "plt.axhline(y=media, color='red', linestyle='--', label=f'Média: {media:.2f}')\n",
    "\n",
    "plt.title('Frequências com Linha da Média')\n",
    "plt.xlabel('Número')\n",
    "plt.ylabel('Total de Frequência')\n",
    "\n",
    "plt.legend()  # mostra a legenda\n",
    "\n",
    "plt.tight_layout()\n",
    "plt.show()"
   ]
  },
  {
   "cell_type": "code",
   "execution_count": null,
   "id": "1fecf4d8",
   "metadata": {},
   "outputs": [],
   "source": [
    "for v in range(1,26):\n",
    "    linha = tabela.loc[v]\n",
    "\n",
    "    linha_filtrada = linha.drop(['Total','Média por bola','Total Esperado','Probabilidade','Média por bola Esperada'], errors='ignore')\n",
    "\n",
    "    media = linha_filtrada.mean()\n",
    "    maxima = linha_filtrada.max().max()\n",
    "    minima = linha_filtrada.min().min()\n",
    "\n",
    "    plt.figure(figsize=(15,6))\n",
    "    plt.axhline(y=media, color='red', linestyle='--', label=f'Média: {media:.2f}')\n",
    "    plt.axhline(y=maxima, color='yellow', linestyle='--', label=f'Maxima: {maxima:.2f}')\n",
    "    plt.axhline(y=minima, color='blue', linestyle='--', label=f'Minima: {minima:.2f}')\n",
    "    plt.bar(linha_filtrada.index, linha_filtrada.values)\n",
    "\n",
    "    plt.title(f\"Frequência por bola do número {v}\")\n",
    "    plt.xlabel('Colunas')\n",
    "    plt.ylabel('Frequência')\n",
    "\n",
    "    plt.legend()\n",
    "\n",
    "    plt.tight_layout()\n",
    "    plt.savefig(f\"FrequenciaPorBolaDo{v}\")\n",
    "    plt.show()"
   ]
  },
  {
   "cell_type": "code",
   "execution_count": null,
   "id": "e7d5f5b9",
   "metadata": {},
   "outputs": [],
   "source": [
    "abaixo_da_media = tabela[tabela['Total'] < tabela['Total Esperado']]\n",
    "display(abaixo_da_media)\n",
    "\n",
    "maior_da_media = tabela[tabela['Total'] > tabela['Total Esperado']]\n",
    "display(maior_da_media)\n",
    "\n",
    "igual_a_media = tabela[tabela['Total'] == tabela['Total Esperado']]\n",
    "display(igual_a_media)"
   ]
  }
 ],
 "metadata": {
  "kernelspec": {
   "display_name": "Python 3",
   "language": "python",
   "name": "python3"
  },
  "language_info": {
   "codemirror_mode": {
    "name": "ipython",
    "version": 3
   },
   "file_extension": ".py",
   "mimetype": "text/x-python",
   "name": "python",
   "nbconvert_exporter": "python",
   "pygments_lexer": "ipython3",
   "version": "3.13.3"
  }
 },
 "nbformat": 4,
 "nbformat_minor": 5
}
