{
 "cells": [
  {
   "cell_type": "code",
   "execution_count": null,
   "id": "e4fdbf58",
   "metadata": {},
   "outputs": [],
   "source": [
    "eu = {\n",
    "    \"nome\":\"castro\",\n",
    "    \"idade\": 22,\n",
    "    \"cidade\": \"Vila Velha\"\n",
    "}\n",
    "\n",
    "eu[\"graduação\"] = \"Bachalor\"\n",
    "\n",
    "tipo = eu.items()\n",
    "\n",
    "print(eu.items())\n",
    "\n",
    "# for chave, valor in eu.items():\n",
    "#     print(chave,valor)"
   ]
  },
  {
   "cell_type": "code",
   "execution_count": null,
   "id": "858ef594",
   "metadata": {},
   "outputs": [],
   "source": [
    "# Cria uma lista de dicionario de pessoas\n",
    "users = [ \n",
    "    { \"id\": 0, \"nome\":\"Hero\"},\n",
    "    { \"id\": 1, \"nome\":\"Dunn\"},\n",
    "    { \"id\": 2, \"nome\":\"Sue\"},\n",
    "    { \"id\": 3, \"nome\":\"Chi\"},\n",
    "    { \"id\": 4, \"nome\":\"Thor\"},\n",
    "    { \"id\": 5, \"nome\":\"Clive\"},\n",
    "    { \"id\": 6, \"nome\":\"Hicks\"},\n",
    "    { \"id\": 7, \"nome\":\"Devin\"},\n",
    "    { \"id\": 8, \"nome\":\"Kate\"},\n",
    "    { \"id\": 9, \"nome\":\"Klein\"},\n",
    "]\n",
    "\n",
    "# Cria uma lista de tuplas das amizades entre cada um\n",
    "friendship_pairs = [(0,1),(0,2),(1,2),(1,3),(2,3),(3,4),(4,5),(5,6),(5,7),(6,8),(7,8),(8,9)]\n",
    "\n",
    "# Cria um dicionario com uma lista vazia para cada pessoa \n",
    "friendship = {user[\"id\"]: [] for user in users}\n",
    "\n",
    "# I e J é usado para acessar os valores dentro da tupla \n",
    "for i, j in friendship_pairs:\n",
    "    # armazena todas as amizades de cada um dentro do dicionario com listas vazias\n",
    "    friendship[i].append(j)\n",
    "    friendship[j].append(i)\n",
    "\n",
    "# Função para retornar a quantidade total de amizades que cada pessoa tem \n",
    "def number_of_friends(user):\n",
    "    user_id = user[\"id\"]\n",
    "    friend_ids = friendship[user_id]\n",
    "    return len(friend_ids)\n",
    "\n",
    "# Soma a quantidade de conexões totais de cada pessoa e armazena a quantidade total de conexões \n",
    "total_connections = sum(number_of_friends(user) for user in users)\n",
    "\n",
    "num_users = len(users)\n",
    "avg_connections = total_connections / num_users\n",
    "\n",
    "num_friends_by_id = [(user[\"id\"], number_of_friends(user)) for user in users]\n",
    "\n",
    "num_friends_by_id.sort(key=lambda id_and_friends:id_and_friends[1], reverse=True)\n",
    "\n",
    "print(num_friends_by_id)"
   ]
  }
 ],
 "metadata": {
  "kernelspec": {
   "display_name": "Python 3",
   "language": "python",
   "name": "python3"
  },
  "language_info": {
   "codemirror_mode": {
    "name": "ipython",
    "version": 3
   },
   "file_extension": ".py",
   "mimetype": "text/x-python",
   "name": "python",
   "nbconvert_exporter": "python",
   "pygments_lexer": "ipython3",
   "version": "3.13.3"
  }
 },
 "nbformat": 4,
 "nbformat_minor": 5
}
