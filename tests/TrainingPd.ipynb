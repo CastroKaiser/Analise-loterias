{
 "cells": [
  {
   "cell_type": "code",
   "execution_count": null,
   "id": "e7954843",
   "metadata": {},
   "outputs": [],
   "source": [
    "import pandas as pd\n",
    "import matplotlib.pyplot as plt\n",
    "import numpy as np\n",
    "from scipy.stats import chisquare\n",
    "from collections import Counter\n",
    "\n",
    "\n",
    "\n",
    "# A variavel mega vai guardar a tabela que esta no excel\n",
    "mega = pd.read_excel(\"allResultsMega.xlsx\")\n",
    "\n",
    "# A planilha usada para analisar esta na ordem dos sorteios\n",
    "\n",
    "'''\n",
    "lkjhlkj\n",
    ":alsjdkf\n",
    "'''"
   ]
  },
  {
   "cell_type": "code",
   "execution_count": null,
   "id": "0bd85918",
   "metadata": {},
   "outputs": [],
   "source": [
    "#Aqui a função head vai retornar os 5 primeiros resultados\n",
    "firstRows = mega.head(5)\n",
    "\n",
    "#Aqui a função tail vai retornar os 5 ultimos resultados\n",
    "lastRows = mega.tail(5)\n",
    "\n",
    "# Aqui o info retorna as informações tecnicas da tabela\n",
    "infoData = mega.info()\n",
    "\n",
    "# Aqui o dtypes retorna o tipo de dado de cada coluna\n",
    "typeData = mega.dtypes\n",
    "\n",
    "# Series é usado para criar valores da uma coluna\n",
    "ex = pd.Series([1,2,3], name=\"exemplo\")\n",
    "\n",
    "# [] é usado para acessar os valores da coluna\n",
    "bolaOne = mega[\"bola 1\"]\n",
    "\n",
    "# Aqui é uma forma de selecionar 2 colunas diferentes e criar um dataFrame\n",
    "bola_1_3 = mega[['bola 1', 'bola 3']]\n",
    "\n",
    "# Aqui é uma condicional para verificar números dentro de uma coluna e retorna todas as linhas e colunas desse valor\n",
    "above_30 = mega[mega['bola 1'] >= 30]\n"
   ]
  },
  {
   "cell_type": "code",
   "execution_count": null,
   "id": "238b5ad7",
   "metadata": {},
   "outputs": [],
   "source": [
    "\n",
    "\n",
    "# Logica da programação aqui\n",
    "# Primeiro eu seleciono as colunas que eu vou usar para contar os números.\n",
    "# Em seguida eu transformo as colunas em um vetor.\n",
    "# Posteriomente eu uso uma classe para contar a frequencia de cada número.\n",
    "# Após contabilizar, eu ordeno os números da lista em ordem crescente.\n",
    "# Por fim eu transformo a lista ordenada em um DataFrame \n",
    "\n",
    "# 1ª\n",
    "bolas = mega[['bola 1','bola 2','bola 3','bola 4','bola 5','bola 6',]]\n",
    "\n",
    "# 2ª\n",
    "lista_numeros = bolas.values.flatten()\n",
    "\n",
    "# 3ª\n",
    "frequencias = Counter(lista_numeros)\n",
    "\n",
    "# 4ª\n",
    "numeros_ordenados = dict(sorted(frequencias.items()))\n",
    "\n",
    "# 5ª\n",
    "df_freq = pd.DataFrame(list(numeros_ordenados.items()), columns=['Número', 'Frequência'])\n",
    "\n",
    "display(df_freq)"
   ]
  },
  {
   "cell_type": "code",
   "execution_count": 65,
   "id": "39e51c65",
   "metadata": {},
   "outputs": [
    {
     "name": "stdout",
     "output_type": "stream",
     "text": [
      "χ²: 77.59511343804537\n",
      "p-valor: 0.052708760779699056\n"
     ]
    }
   ],
   "source": [
    "\n",
    "\n",
    "# Frequência de cada número de 1 a 60 (já calculada antes)\n",
    "f_obs = list(df_freqs['total'])\n",
    "\n",
    "# Frequência esperada: todos os 60 números deveriam aparecer igualmente\n",
    "total_sorteios = sum(f_obs)\n",
    "f_exp = [total_sorteios / 60] * 60\n",
    "\n",
    "# Aplica o teste\n",
    "resultado = chisquare(f_obs, f_exp)\n",
    "\n",
    "print(\"χ²:\", resultado.statistic)\n",
    "print(\"p-valor:\", resultado.pvalue)\n"
   ]
  }
 ],
 "metadata": {
  "kernelspec": {
   "display_name": "Python 3",
   "language": "python",
   "name": "python3"
  },
  "language_info": {
   "codemirror_mode": {
    "name": "ipython",
    "version": 3
   },
   "file_extension": ".py",
   "mimetype": "text/x-python",
   "name": "python",
   "nbconvert_exporter": "python",
   "pygments_lexer": "ipython3",
   "version": "3.13.3"
  }
 },
 "nbformat": 4,
 "nbformat_minor": 5
}
