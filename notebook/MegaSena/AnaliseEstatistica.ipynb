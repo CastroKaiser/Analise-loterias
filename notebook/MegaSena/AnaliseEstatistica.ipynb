{
 "cells": [
  {
   "cell_type": "markdown",
   "id": "b0d03ff0",
   "metadata": {},
   "source": [
    "# Introdução\n",
    "Esse arquivo foi feito para usar as analises em conjunto de forma estruturada para encontrar as melhores combinações de números baseado na frequencia e no intervalo de desaparecimento dos mesmos.\n",
    "\n",
    "Para isso foi utilizado as sequintes analises:\n",
    "* Frequência total de cada número\n",
    "* Todos os intervalos de desaparecimento de cada número\n",
    "\n",
    "Ainda estou aperfeiçoando a analise com o objetivo de melhorar a precisão das combinações posseiveis, estou estudando mais estatisca, machine learning e analise de dados para obter exito.\n",
    "\n",
    "Pretendo criar outras analises para complementar e estrutura ainda mais as analises para ser mais robusto a tomada de decisão."
   ]
  },
  {
   "cell_type": "code",
   "execution_count": null,
   "id": "3193cf2c",
   "metadata": {},
   "outputs": [],
   "source": [
    "import pandas as pd\n",
    "import numpy as np\n",
    "import matplotlib.pyplot as plt\n",
    "import matplotlib.animation as animation\n",
    "import bar_chart_race as bcr\n",
    "import matplotlib as mpl\n",
    "import os\n",
    "from openpyxl import load_workbook\n",
    "from reportlab.pdfgen import canvas\n",
    "from reportlab.lib.pagesizes import A4\n",
    "\n",
    "caminho = r\"c:\\Users\\castr\\OneDrive\\Área de Trabalho\\Repositorios\\scripts\\Analise-loterias\\data\\processed\"\n",
    "\n",
    "os.chdir(caminho)\n",
    "\n",
    "mega = pd.read_excel('Dados_Update.xlsx')\n",
    "\n",
    "table_for_analysis = mega.drop(['Concurso', 'Data'], axis=1)\n"
   ]
  },
  {
   "cell_type": "markdown",
   "id": "3861fb7f",
   "metadata": {},
   "source": [
    "## Frequência total e individual de cada bola\n",
    "\n",
    "Código abaixo gera uma tabela com as frequencias de cada número por bola e frequencia total "
   ]
  },
  {
   "cell_type": "code",
   "execution_count": null,
   "id": "0db11595",
   "metadata": {},
   "outputs": [],
   "source": [
    "contagem = {}\n",
    "\n",
    "for numero in range(1, 61):\n",
    "    contagem_numero = {}\n",
    "    for coluna in table_for_analysis.columns:\n",
    "        temp = 0\n",
    "        for instancia in table_for_analysis[coluna]:\n",
    "            if instancia == numero:\n",
    "                temp += 1\n",
    "        \n",
    "        contagem_numero[coluna] = temp\n",
    "    \n",
    "    contagem[numero] = contagem_numero\n",
    "\n",
    "tabela = pd.DataFrame(contagem).T\n",
    "\n",
    "tabela.index.name = 'Número'\n",
    "\n",
    "tabela['Total'] = tabela.sum(axis=1)\n",
    "\n",
    "caminho_original = os.getcwd()\n",
    "\n",
    "os.chdir(r\"c:\\Users\\castr\\OneDrive\\Área de Trabalho\\Repositorios\\scripts\\Analise-loterias\\reports\\Metricas\\MegaSena\")\n",
    "\n",
    "tabela.to_excel(\"tabela_frequencias.xlsx\", sheet_name=\"Frequencia\")\n",
    "\n",
    "os.chdir(caminho_original)\n",
    "\n",
    "display(tabela)"
   ]
  },
  {
   "cell_type": "markdown",
   "id": "94c300c6",
   "metadata": {},
   "source": [
    "## Tempo de desaparecimento\n",
    "\n",
    "O código abaixo gera todos os intervalos de cada número onde cada um ficou desaparecido"
   ]
  },
  {
   "cell_type": "code",
   "execution_count": null,
   "id": "2aa37a04",
   "metadata": {},
   "outputs": [
    {
     "data": {
      "text/plain": [
       "'c:\\\\Users\\\\castr\\\\OneDrive\\\\Área de Trabalho\\\\Repositorios\\\\scripts\\\\Analise-loterias\\\\data\\\\processed'"
      ]
     },
     "execution_count": 22,
     "metadata": {},
     "output_type": "execute_result"
    }
   ],
   "source": [
    "numeros = {i: [] for i in range(1, 61)}\n",
    "\n",
    "contadores = {i: 0 for i in range(1, 61)}\n",
    "\n",
    "for num in range(1, 61):\n",
    "    for index, row in table_for_analysis.iterrows():\n",
    "\n",
    "        if num in row.values:\n",
    "\n",
    "            numeros[num].append(contadores[num])\n",
    "            \n",
    "            contadores[num] = 0\n",
    "        else:\n",
    "            \n",
    "            contadores[num] += 1\n",
    "\n",
    "tabela_Total_Desaparecimento = pd.DataFrame.from_dict(numeros, orient='index')\n",
    "\n",
    "tabela_Total_Desaparecimento.to_excel('Intervalos de Desaparecimento.xlsx', sheet_name='Intervalos Históricos')\n",
    "\n",
    "display(tabela_Total_Desaparecimento)\n"
   ]
  },
  {
   "cell_type": "markdown",
   "id": "ada3bb73",
   "metadata": {},
   "source": [
    "## Complemento do tempo de desaparecimento\n",
    "\n",
    "O código abaixo retorna o maior e menor intervalo de tempo que um número ficou desaparecido, como bónus ele também dá a media de desaparecimento de cada número "
   ]
  },
  {
   "cell_type": "code",
   "execution_count": 29,
   "id": "bb6c7d24",
   "metadata": {},
   "outputs": [],
   "source": [
    "lista = {}\n",
    "maximo = {}\n",
    "\n",
    "for i in range(1,61):\n",
    "    valores = numeros.get(i)\n",
    "    \n",
    "    lista[i] = round(sum(valores) / len(valores), 2)\n",
    "\n",
    "    maximo[i] = max(valores)\n",
    "\n",
    "tabela_Media_Desaparecimento = pd.DataFrame.from_dict(lista, orient='index', columns=['Tempo de Desaparecimento Médio'])\n",
    "\n",
    "tabela_Desaparecimento_maximo = pd.DataFrame.from_dict(maximo, orient='index', columns=['Tempo de Desaparecimento Máximo'])\n",
    "\n",
    "os.chdir(r\"c:\\Users\\castr\\OneDrive\\Área de Trabalho\\Repositorios\\scripts\\Analise-loterias\\reports\\Metricas\\MegaSena\")\n",
    "\n",
    "with pd.ExcelWriter(\"Intervalos de Desaparecimento.xlsx\", engine='openpyxl',mode='a', if_sheet_exists='replace') as writer:\n",
    "    tabela_Media_Desaparecimento.to_excel(writer, sheet_name='Média Desaparecimento', index=True, )\n",
    "    tabela_Desaparecimento_maximo.to_excel(writer, sheet_name='Máximo Desaparecimento', index=True)"
   ]
  }
 ],
 "metadata": {
  "kernelspec": {
   "display_name": "Python 3",
   "language": "python",
   "name": "python3"
  },
  "language_info": {
   "codemirror_mode": {
    "name": "ipython",
    "version": 3
   },
   "file_extension": ".py",
   "mimetype": "text/x-python",
   "name": "python",
   "nbconvert_exporter": "python",
   "pygments_lexer": "ipython3",
   "version": "3.13.3"
  }
 },
 "nbformat": 4,
 "nbformat_minor": 5
}
