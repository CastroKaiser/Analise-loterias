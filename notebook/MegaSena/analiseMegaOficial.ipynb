{
 "cells": [
  {
   "cell_type": "markdown",
   "id": "b0d03ff0",
   "metadata": {},
   "source": [
    "# Introdução\n",
    "Esse arquivo foi feito para usar as analises em conjunto de forma estruturada para encontrar as melhores combinações de números baseado na frequencia e no intervalo de desaparecimento dos mesmos.\n",
    "\n",
    "Para isso foi utilizado as sequintes analises:\n",
    "* Frequência total de cada número\n",
    "* Todos os intervalos de desaparecimento de cada número\n",
    "\n",
    "Ainda estou aperfeiçoando a analise com o objetivo de melhorar a precisão das combinações posseiveis, estou estudando mais estatisca, machine learning e analise de dados para obter exito.\n",
    "\n",
    "Pretendo criar outras analises para complementar e estrutura ainda mais as analises para ser mais robusto a tomada de decisão."
   ]
  },
  {
   "cell_type": "code",
   "execution_count": null,
   "id": "3193cf2c",
   "metadata": {},
   "outputs": [],
   "source": [
    "import pandas as pd\n",
    "import numpy as np\n",
    "import matplotlib.pyplot as plt\n",
    "import matplotlib.animation as animation\n",
    "import bar_chart_race as bcr\n",
    "import matplotlib as mpl\n",
    "import os\n",
    "from openpyxl import load_workbook\n",
    "from reportlab.pdfgen import canvas\n",
    "from reportlab.lib.pagesizes import A4\n",
    "\n",
    "principal = os.getcwd()\n",
    "\n",
    "os.chdir(principal)\n",
    "\n",
    "mega = pd.read_excel('dados_update.xlsx')\n",
    "\n",
    "quadro = mega.drop(['Concurso', 'Data'], axis=1)\n"
   ]
  },
  {
   "cell_type": "markdown",
   "id": "3861fb7f",
   "metadata": {},
   "source": [
    "## Frequência total e individual de cada bola\n",
    "\n",
    "Código abaixo gera uma tabela com as frequencias de cada número por bola e frequencia total "
   ]
  },
  {
   "cell_type": "code",
   "execution_count": null,
   "id": "0db11595",
   "metadata": {},
   "outputs": [],
   "source": [
    "contagem = {}\n",
    "\n",
    "for numero in range(1, 61):\n",
    "    contagem_numero = {}\n",
    "    for coluna in quadro.columns:\n",
    "        temp = 0\n",
    "        for instancia in quadro[coluna]:\n",
    "            if instancia == numero:\n",
    "                temp += 1\n",
    "        \n",
    "        contagem_numero[coluna] = temp\n",
    "    \n",
    "    contagem[numero] = contagem_numero\n",
    "\n",
    "tabela = pd.DataFrame(contagem).T\n",
    "\n",
    "tabela.index.name = 'Número'\n",
    "\n",
    "tabela['Total'] = tabela.sum(axis=1)\n",
    "\n",
    "tabela.to_excel(\"tabela_frequencias.xlsx\", sheet_name=\"Frequencia\")\n",
    "\n",
    "display(tabela)"
   ]
  },
  {
   "cell_type": "markdown",
   "id": "94c300c6",
   "metadata": {},
   "source": [
    "## Tempo de desaparecimento\n",
    "\n",
    "O código abaixo gera todos os intervalos de cada número onde cada um ficou desaparecido"
   ]
  },
  {
   "cell_type": "code",
   "execution_count": null,
   "id": "2aa37a04",
   "metadata": {},
   "outputs": [],
   "source": [
    "table_for_analysis = mega.drop([\"Concurso\", \"Data\"], axis=1)\n",
    "\n",
    "numeros = {i: [] for i in range(1, 61)}\n",
    "\n",
    "contadores = {i: 0 for i in range(1, 61)}\n",
    "\n",
    "for num in range(1, 61):\n",
    "    for index, row in table_for_analysis.iterrows():\n",
    "\n",
    "        if num in row.values:\n",
    "\n",
    "            numeros[num].append(contadores[num])\n",
    "            \n",
    "            contadores[num] = 0\n",
    "        else:\n",
    "            \n",
    "            contadores[num] += 1\n",
    "\n",
    "for num, intervalos in numeros.items():\n",
    "    print(f\"Número {num}: Intervalos = {intervalos}\")"
   ]
  },
  {
   "cell_type": "markdown",
   "id": "ada3bb73",
   "metadata": {},
   "source": [
    "## Complemento do tempo de desaparecimento\n",
    "\n",
    "O código abaixo retorna o maior e menor intervalo de tempo que um número ficou desaparecido, como bónus ele também dá a media de desaparecimento de cada número "
   ]
  },
  {
   "cell_type": "code",
   "execution_count": 23,
   "id": "bb6c7d24",
   "metadata": {},
   "outputs": [
    {
     "name": "stdout",
     "output_type": "stream",
     "text": [
      "Médias: {1: 9.265017667844523, 2: 8.877551020408163, 3: 9.828358208955224, 4: 8.534426229508197, 5: 8.115987460815047, 6: 8.982817869415808, 7: 9.712177121771218, 8: 9.13986013986014, 9: 9.648351648351648, 10: 7.547058823529412, 11: 8.55921052631579, 12: 9.562043795620438, 13: 8.709030100334449, 14: 9.266903914590747, 15: 10.232558139534884, 16: 8.6158940397351, 17: 8.418831168831169, 18: 9.465703971119133, 19: 9.26148409893993, 20: 9.111498257839722, 21: 10.991735537190083, 22: 10.165384615384616, 23: 8.554455445544555, 24: 8.897260273972602, 25: 8.99655172413793, 26: 11.0, 27: 8.524590163934427, 28: 8.63, 29: 9.020689655172413, 30: 8.50326797385621, 31: 9.732342007434944, 32: 8.402597402597403, 33: 8.320512820512821, 34: 8.184126984126983, 35: 8.488524590163934, 36: 8.884353741496598, 37: 8.257961783439491, 38: 8.301282051282051, 39: 9.456834532374101, 40: 9.672794117647058, 41: 8.693333333333333, 42: 8.493464052287582, 43: 8.438311688311689, 44: 8.418300653594772, 45: 9.133802816901408, 46: 8.521311475409837, 47: 9.453237410071942, 48: 9.65925925925926, 49: 8.854237288135593, 50: 9.055555555555555, 51: 8.744107744107744, 52: 8.924914675767917, 53: 7.764350453172206, 54: 8.570957095709572, 55: 10.507936507936508, 56: 8.483660130718954, 57: 9.316725978647687, 58: 9.462093862815884, 59: 9.338078291814947, 60: 9.431654676258994}\n",
      "Maximo: {1: 49, 2: 61, 3: 51, 4: 55, 5: 46, 6: 58, 7: 60, 8: 60, 9: 53, 10: 54, 11: 64, 12: 61, 13: 53, 14: 53, 15: 65, 16: 43, 17: 59, 18: 56, 19: 82, 20: 69, 21: 67, 22: 50, 23: 64, 24: 58, 25: 80, 26: 88, 27: 51, 28: 50, 29: 59, 30: 39, 31: 59, 32: 73, 33: 56, 34: 72, 35: 61, 36: 57, 37: 52, 38: 77, 39: 60, 40: 78, 41: 60, 42: 108, 43: 60, 44: 64, 45: 62, 46: 47, 47: 49, 48: 50, 49: 78, 50: 75, 51: 75, 52: 57, 53: 41, 54: 61, 55: 72, 56: 67, 57: 57, 58: 64, 59: 58, 60: 64}\n",
      "Minimo: {1: 0, 2: 0, 3: 0, 4: 0, 5: 0, 6: 0, 7: 0, 8: 0, 9: 0, 10: 0, 11: 0, 12: 0, 13: 0, 14: 0, 15: 0, 16: 0, 17: 0, 18: 0, 19: 0, 20: 0, 21: 0, 22: 0, 23: 0, 24: 0, 25: 0, 26: 0, 27: 0, 28: 0, 29: 0, 30: 0, 31: 0, 32: 0, 33: 0, 34: 0, 35: 0, 36: 0, 37: 0, 38: 0, 39: 0, 40: 0, 41: 0, 42: 0, 43: 0, 44: 0, 45: 0, 46: 0, 47: 0, 48: 0, 49: 0, 50: 0, 51: 0, 52: 0, 53: 0, 54: 0, 55: 0, 56: 0, 57: 0, 58: 0, 59: 0, 60: 0}\n"
     ]
    }
   ],
   "source": [
    "lista = {}\n",
    "maximo = {}\n",
    "minimo = {}\n",
    "\n",
    "for i in range(1,61):\n",
    "    valores = numeros.get(i)\n",
    "\n",
    "    lista[i] = sum(valores) / len(valores)\n",
    "    maximo[i] = max(valores)\n",
    "    minimo[i] = min(valores)\n",
    "\n",
    "print(\"Médias:\", lista)\n",
    "print(\"Maximo:\", maximo)\n",
    "print(\"Minimo:\", minimo)"
   ]
  }
 ],
 "metadata": {
  "kernelspec": {
   "display_name": "Python 3",
   "language": "python",
   "name": "python3"
  },
  "language_info": {
   "codemirror_mode": {
    "name": "ipython",
    "version": 3
   },
   "file_extension": ".py",
   "mimetype": "text/x-python",
   "name": "python",
   "nbconvert_exporter": "python",
   "pygments_lexer": "ipython3",
   "version": "3.13.3"
  }
 },
 "nbformat": 4,
 "nbformat_minor": 5
}
