{
 "cells": [
  {
   "cell_type": "markdown",
   "id": "b0d03ff0",
   "metadata": {},
   "source": [
    "# Introdução\n",
    "Esse arquivo foi feito para usar as analises em conjunto de forma estruturada para encontrar as melhores combinações de números baseado na frequencia e no intervalo de desaparecimento dos mesmos.\n",
    "\n",
    "Para isso foi utilizado as sequintes analises:\n",
    "* Frequência total de cada número\n",
    "* Todos os intervalos de desaparecimento de cada número\n",
    "\n",
    "Ainda estou aperfeiçoando a analise com o objetivo de melhorar a precisão das combinações posseiveis, estou estudando mais estatisca, machine learning e analise de dados para obter exito.\n",
    "\n",
    "Pretendo criar outras analises para complementar e estrutura ainda mais as analises para ser mais robusto a tomada de decisão."
   ]
  },
  {
   "cell_type": "code",
   "execution_count": null,
   "id": "3193cf2c",
   "metadata": {},
   "outputs": [],
   "source": [
    "import pandas as pd\n",
    "import numpy as np\n",
    "import matplotlib.pyplot as plt\n",
    "import matplotlib.animation as animation\n",
    "import bar_chart_race as bcr\n",
    "import matplotlib as mpl\n",
    "import os\n",
    "from openpyxl import load_workbook\n",
    "from reportlab.pdfgen import canvas\n",
    "from reportlab.lib.pagesizes import A4\n",
    "\n",
    "caminho = r\"c:\\Users\\castr\\OneDrive\\Área de Trabalho\\Repositorios\\scripts\\Analise-loterias\\data\\processed\"\n",
    "\n",
    "os.chdir(caminho)\n",
    "\n",
    "mega = pd.read_excel('Dados_Update.xlsx')\n",
    "\n",
    "table_for_analysis = mega.drop(['Concurso', 'Data'], axis=1)\n"
   ]
  },
  {
   "cell_type": "markdown",
   "id": "3861fb7f",
   "metadata": {},
   "source": [
    "## Frequência total e individual de cada bola\n",
    "\n",
    "Código abaixo gera uma tabela com as frequencias de cada número por bola e frequencia total "
   ]
  },
  {
   "cell_type": "code",
   "execution_count": null,
   "id": "0db11595",
   "metadata": {},
   "outputs": [],
   "source": [
    "contagem = {}\n",
    "\n",
    "for numero in range(1, 61):\n",
    "    contagem_numero = {}\n",
    "    for coluna in table_for_analysis.columns:\n",
    "        temp = 0\n",
    "        for instancia in table_for_analysis[coluna]:\n",
    "            if instancia == numero:\n",
    "                temp += 1\n",
    "        \n",
    "        contagem_numero[coluna] = temp\n",
    "    \n",
    "    contagem[numero] = contagem_numero\n",
    "\n",
    "tabela = pd.DataFrame(contagem).T\n",
    "\n",
    "tabela.index.name = 'Número'\n",
    "\n",
    "tabela['Total'] = tabela.sum(axis=1)\n",
    "\n",
    "caminho_original = os.getcwd()\n",
    "\n",
    "os.chdir(r\"c:\\Users\\castr\\OneDrive\\Área de Trabalho\\Repositorios\\scripts\\Analise-loterias\\reports\\Frequencias\\MegaSena\")\n",
    "\n",
    "tabela.to_excel(\"tabela_frequencias.xlsx\", sheet_name=\"Frequencia\")\n",
    "\n",
    "os.chdir(caminho_original)\n",
    "\n",
    "display(tabela)"
   ]
  },
  {
   "cell_type": "markdown",
   "id": "94c300c6",
   "metadata": {},
   "source": [
    "## Tempo de desaparecimento\n",
    "\n",
    "O código abaixo gera todos os intervalos de cada número onde cada um ficou desaparecido"
   ]
  },
  {
   "cell_type": "code",
   "execution_count": null,
   "id": "2aa37a04",
   "metadata": {},
   "outputs": [],
   "source": [
    "numeros = {i: [] for i in range(1, 61)}\n",
    "\n",
    "contadores = {i: 0 for i in range(1, 61)}\n",
    "\n",
    "for num in range(1, 61):\n",
    "    for index, row in table_for_analysis.iterrows():\n",
    "\n",
    "        if num in row.values:\n",
    "\n",
    "            numeros[num].append(contadores[num])\n",
    "            \n",
    "            contadores[num] = 0\n",
    "        else:\n",
    "            \n",
    "            contadores[num] += 1\n",
    "\n",
    "for num, intervalos in numeros.items():\n",
    "    print(f\"Número {num}: Intervalos = {intervalos}\")"
   ]
  },
  {
   "cell_type": "markdown",
   "id": "ada3bb73",
   "metadata": {},
   "source": [
    "## Complemento do tempo de desaparecimento\n",
    "\n",
    "O código abaixo retorna o maior e menor intervalo de tempo que um número ficou desaparecido, como bónus ele também dá a media de desaparecimento de cada número "
   ]
  },
  {
   "cell_type": "code",
   "execution_count": 18,
   "id": "bb6c7d24",
   "metadata": {},
   "outputs": [
    {
     "name": "stdout",
     "output_type": "stream",
     "text": [
      "Médias: {1: 9.268551236749117, 2: 8.880952380952381, 3: 9.832089552238806, 4: 8.537704918032787, 5: 8.119122257053291, 6: 8.986254295532646, 7: 9.715867158671587, 8: 9.10801393728223, 9: 9.652014652014651, 10: 7.55, 11: 8.5625, 12: 9.565693430656934, 13: 8.7123745819398, 14: 9.270462633451958, 15: 10.236434108527131, 16: 8.619205298013245, 17: 8.422077922077921, 18: 9.469314079422382, 19: 9.265017667844523, 20: 9.114982578397212, 21: 10.946502057613168, 22: 10.169230769230769, 23: 8.557755775577558, 24: 8.900684931506849, 25: 9.0, 26: 11.00418410041841, 27: 8.527868852459017, 28: 8.633333333333333, 29: 9.024137931034483, 30: 8.506535947712418, 31: 9.696296296296296, 32: 8.405844155844155, 33: 8.323717948717949, 34: 8.187301587301587, 35: 8.491803278688524, 36: 8.887755102040817, 37: 8.261146496815286, 38: 8.304487179487179, 39: 9.46043165467626, 40: 9.676470588235293, 41: 8.664451827242525, 42: 8.49673202614379, 43: 8.441558441558442, 44: 8.42156862745098, 45: 9.137323943661972, 46: 8.524590163934427, 47: 9.456834532374101, 48: 9.662962962962963, 49: 8.857627118644068, 50: 9.059027777777779, 51: 8.747474747474747, 52: 8.928327645051194, 53: 7.740963855421687, 54: 8.574257425742575, 55: 10.511904761904763, 56: 8.486928104575163, 57: 9.320284697508896, 58: 9.428057553956835, 59: 9.341637010676157, 60: 9.43525179856115}\n",
      "Maximo: {1: 49, 2: 61, 3: 51, 4: 55, 5: 46, 6: 58, 7: 60, 8: 60, 9: 53, 10: 54, 11: 64, 12: 61, 13: 53, 14: 53, 15: 65, 16: 43, 17: 59, 18: 56, 19: 82, 20: 69, 21: 67, 22: 50, 23: 64, 24: 58, 25: 80, 26: 88, 27: 51, 28: 50, 29: 59, 30: 39, 31: 59, 32: 73, 33: 56, 34: 72, 35: 61, 36: 57, 37: 52, 38: 77, 39: 60, 40: 78, 41: 60, 42: 108, 43: 60, 44: 64, 45: 62, 46: 47, 47: 49, 48: 50, 49: 78, 50: 75, 51: 75, 52: 57, 53: 41, 54: 61, 55: 72, 56: 67, 57: 57, 58: 64, 59: 58, 60: 64}\n"
     ]
    }
   ],
   "source": [
    "lista = {}\n",
    "maximo = {}\n",
    "\n",
    "for i in range(1,61):\n",
    "    valores = numeros.get(i)\n",
    "    \n",
    "    lista[i] = sum(valores) / len(valores)\n",
    "\n",
    "    maximo[i] = max(valores)\n",
    "\n",
    "print(\"Médias:\", lista)\n",
    "print(\"Maximo:\", maximo)"
   ]
  }
 ],
 "metadata": {
  "kernelspec": {
   "display_name": "Python 3",
   "language": "python",
   "name": "python3"
  },
  "language_info": {
   "codemirror_mode": {
    "name": "ipython",
    "version": 3
   },
   "file_extension": ".py",
   "mimetype": "text/x-python",
   "name": "python",
   "nbconvert_exporter": "python",
   "pygments_lexer": "ipython3",
   "version": "3.13.3"
  }
 },
 "nbformat": 4,
 "nbformat_minor": 5
}
